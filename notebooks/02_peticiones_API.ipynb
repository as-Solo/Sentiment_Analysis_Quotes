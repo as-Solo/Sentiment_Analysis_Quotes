{
 "cells": [
  {
   "cell_type": "code",
   "execution_count": 1,
   "id": "introductory-korean",
   "metadata": {},
   "outputs": [],
   "source": [
    "import requests"
   ]
  },
  {
   "cell_type": "markdown",
   "id": "defined-anaheim",
   "metadata": {},
   "source": [
    "###  Query de citas por autor"
   ]
  },
  {
   "cell_type": "code",
   "execution_count": 2,
   "id": "after-palmer",
   "metadata": {},
   "outputs": [],
   "source": [
    "url_citas = 'http://localhost:5000/mensaje_autor'\n",
    "nombre = 'Oscar Wilde'"
   ]
  },
  {
   "cell_type": "code",
   "execution_count": 3,
   "id": "behind-river",
   "metadata": {},
   "outputs": [
    {
     "data": {
      "text/plain": [
       "[{'cita': 'Be yourself; everyone else is already taken.'},\n",
       " {'cita': 'We are all in the gutter, but some of us are looking at the stars.'},\n",
       " {'cita': 'A man who does not think for himself does not think at all.'},\n",
       " {'cita': 'But we never get back our youth… The pulse of joy that beats in us at twenty becomes sluggish. Our limbs fail, our senses rot. We degenerate into hideous puppets, haunted by the memory of the passions of which we were too much afraid, and the exquisite temptations that we had not the courage to yield to.'},\n",
       " {'cita': \"The ugly and stupid have the best of it in this world. They can sit at their ease and gape at the play. If they know nothing of victory, they are at least spared the knowledge of defeat. They live as we all should live-- undisturbed, indifferent, and without disquiet. They never bring ruin upon others, nor ever receive it from alien hands. Your rank and wealth, Henry; my brains, such as they are-- my art, whatever it may be worth; Dorian Gray's good looks-- we shall all suffer for what the gods have given us, suffer terribly.\"},\n",
       " {'cita': 'What fire does not destroy, it hardens'},\n",
       " {'cita': 'Life is one fool thing after another whereas love is two fool things after each other.'}]"
      ]
     },
     "execution_count": 3,
     "metadata": {},
     "output_type": "execute_result"
    }
   ],
   "source": [
    "frases = requests.get(url_citas + nombre).json()\n",
    "frases"
   ]
  },
  {
   "cell_type": "markdown",
   "id": "alive-ordinance",
   "metadata": {},
   "source": [
    "### Query de cita random"
   ]
  },
  {
   "cell_type": "code",
   "execution_count": 4,
   "id": "robust-ghana",
   "metadata": {},
   "outputs": [
    {
     "data": {
      "text/plain": [
       "'I am striving to give back the Divine in myself to the Divine in the All.'"
      ]
     },
     "execution_count": 4,
     "metadata": {},
     "output_type": "execute_result"
    }
   ],
   "source": [
    "url_query = \"http://localhost:5000/random\"\n",
    "data = requests.get (url_query).json()\n",
    "data"
   ]
  },
  {
   "cell_type": "markdown",
   "id": "therapeutic-section",
   "metadata": {},
   "source": [
    "### Query citas positivas"
   ]
  },
  {
   "cell_type": "code",
   "execution_count": 5,
   "id": "chinese-taiwan",
   "metadata": {},
   "outputs": [
    {
     "data": {
      "text/plain": [
       "[{'autor': 'Mother Teresa',\n",
       "  'cita': 'Peace begins with a smile..',\n",
       "  'cita_sentiment_(P/N/C)': [0.857]},\n",
       " {'autor': 'Walt Disney',\n",
       "  'cita': \"It's kind of fun to do the impossible.\",\n",
       "  'cita_sentiment_(P/N/C)': [0.87]}]"
      ]
     },
     "execution_count": 5,
     "metadata": {},
     "output_type": "execute_result"
    }
   ],
   "source": [
    "url_pos = \"http://localhost:5000/citas_positivas\"\n",
    "mayor = '0.8'\n",
    "numero = '2'\n",
    "citas = requests.get(url_pos + mayor + '_' + numero).json()\n",
    "citas"
   ]
  },
  {
   "cell_type": "markdown",
   "id": "herbal-savage",
   "metadata": {},
   "source": [
    "### Query citas negativas"
   ]
  },
  {
   "cell_type": "code",
   "execution_count": 6,
   "id": "assumed-royal",
   "metadata": {},
   "outputs": [
    {
     "data": {
      "text/plain": [
       "[{'autor': 'William Shakespeare',\n",
       "  'cita': 'Hell is empty and all the devils are here.',\n",
       "  'cita_sentiment_(P/N/C)': [1.0]},\n",
       " {'autor': 'Roy T. Bennett',\n",
       "  'cita': 'Do not fear failure but rather fear not trying.',\n",
       "  'cita_sentiment_(P/N/C)': [0.829]}]"
      ]
     },
     "execution_count": 6,
     "metadata": {},
     "output_type": "execute_result"
    }
   ],
   "source": [
    "url_pos = \"http://localhost:5000/citas_negativas\"\n",
    "mayor = '0.8'\n",
    "numero = '2'\n",
    "citas = requests.get(url_pos + mayor + '_' + numero).json()\n",
    "citas"
   ]
  },
  {
   "cell_type": "markdown",
   "id": "miniature-tanzania",
   "metadata": {},
   "source": [
    "### Query citas compound negativas"
   ]
  },
  {
   "cell_type": "code",
   "execution_count": 7,
   "id": "lined-compound",
   "metadata": {},
   "outputs": [
    {
     "data": {
      "text/plain": [
       "[{'autor': 'Ralph Waldo Emerson',\n",
       "  'cita': 'What lies behind us and what lies before us are tiny matters compared to what lies within us.',\n",
       "  'cita_sentiment_(P/N/C)': [-0.8074]},\n",
       " {'autor': 'Nicholas Klein',\n",
       "  'cita': 'First they ignore you. Then they ridicule you. And then they attack you and want to burn you. And then they build monuments to you.',\n",
       "  'cita_sentiment_(P/N/C)': [-0.8074]}]"
      ]
     },
     "execution_count": 7,
     "metadata": {},
     "output_type": "execute_result"
    }
   ],
   "source": [
    "url_pos = \"http://localhost:5000/citas_compound_neg\"\n",
    "menor = '-0.8'\n",
    "numero = '2'\n",
    "citas = requests.get(url_pos + menor + '_' + numero).json()\n",
    "citas"
   ]
  },
  {
   "cell_type": "markdown",
   "id": "reverse-lesbian",
   "metadata": {},
   "source": [
    "### Query citas compound positivas"
   ]
  },
  {
   "cell_type": "code",
   "execution_count": 8,
   "id": "latest-access",
   "metadata": {
    "scrolled": true
   },
   "outputs": [
    {
     "data": {
      "text/plain": [
       "[{'autor': 'Stephen Chbosky',\n",
       "  'cita': 'We accept the love we think we deserve.',\n",
       "  'cita_sentiment_(P/N/C)': [0.7783]},\n",
       " {'autor': 'Bill Keane',\n",
       "  'cita': 'Yesterday is history, tomorrow is a mystery, today is a gift of God, which is why we call it the present.',\n",
       "  'cita_sentiment_(P/N/C)': [0.6124]}]"
      ]
     },
     "execution_count": 8,
     "metadata": {},
     "output_type": "execute_result"
    }
   ],
   "source": [
    "url_pos = \"http://localhost:5000/citas_compound_pos\"\n",
    "mayor = '0.6'\n",
    "numero = '2'\n",
    "citas = requests.get(url_pos + mayor + '_' + numero).json()\n",
    "citas"
   ]
  },
  {
   "cell_type": "markdown",
   "id": "bottom-breakdown",
   "metadata": {},
   "source": [
    "### Query para introducir uns nueva cita"
   ]
  },
  {
   "cell_type": "code",
   "execution_count": 99,
   "id": "integrated-robert",
   "metadata": {},
   "outputs": [],
   "source": [
    "datos = {'autor': 'Solo',\n",
    " 'cita': 'Sólo sé que no sé Python',\n",
    " 'etiquetas': 'inspirational podeos sarmiento',\n",
    "        }"
   ]
  },
  {
   "cell_type": "code",
   "execution_count": 100,
   "id": "english-peter",
   "metadata": {},
   "outputs": [],
   "source": [
    "url = 'http://localhost:5000/nueva_cita'"
   ]
  },
  {
   "cell_type": "code",
   "execution_count": 101,
   "id": "instrumental-office",
   "metadata": {},
   "outputs": [
    {
     "data": {
      "text/plain": [
       "<Response [200]>"
      ]
     },
     "execution_count": 101,
     "metadata": {},
     "output_type": "execute_result"
    }
   ],
   "source": [
    "requests.post(url, data = datos)"
   ]
  },
  {
   "cell_type": "code",
   "execution_count": 102,
   "id": "bronze-express",
   "metadata": {
    "scrolled": true
   },
   "outputs": [
    {
     "data": {
      "text/plain": [
       "[{'cita': 'Sólo sé que no sé Python'}]"
      ]
     },
     "execution_count": 102,
     "metadata": {},
     "output_type": "execute_result"
    }
   ],
   "source": [
    "frases = requests.get(url_citas + 'Solo').json()\n",
    "frases"
   ]
  }
 ],
 "metadata": {
  "kernelspec": {
   "display_name": "Python 3",
   "language": "python",
   "name": "python3"
  },
  "language_info": {
   "codemirror_mode": {
    "name": "ipython",
    "version": 3
   },
   "file_extension": ".py",
   "mimetype": "text/x-python",
   "name": "python",
   "nbconvert_exporter": "python",
   "pygments_lexer": "ipython3",
   "version": "3.8.5"
  }
 },
 "nbformat": 4,
 "nbformat_minor": 5
}
