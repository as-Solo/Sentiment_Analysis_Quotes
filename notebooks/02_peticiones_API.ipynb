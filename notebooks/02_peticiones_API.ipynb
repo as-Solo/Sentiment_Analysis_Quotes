{
 "cells": [
  {
   "cell_type": "code",
   "execution_count": 382,
   "id": "introductory-korean",
   "metadata": {},
   "outputs": [],
   "source": [
    "import requests"
   ]
  },
  {
   "cell_type": "markdown",
   "id": "aging-reviewer",
   "metadata": {},
   "source": [
    "## FUNCIONES GET"
   ]
  },
  {
   "cell_type": "markdown",
   "id": "defined-anaheim",
   "metadata": {},
   "source": [
    "###  Query de citas por autor"
   ]
  },
  {
   "cell_type": "code",
   "execution_count": 2,
   "id": "after-palmer",
   "metadata": {},
   "outputs": [],
   "source": [
    "url_citas = 'http://localhost:5000/mensaje_autor'\n",
    "nombre = 'Oscar Wilde'"
   ]
  },
  {
   "cell_type": "code",
   "execution_count": 133,
   "id": "behind-river",
   "metadata": {},
   "outputs": [
    {
     "data": {
      "text/plain": [
       "[{'cita': 'Be yourself; everyone else is already taken.'},\n",
       " {'cita': 'We are all in the gutter, but some of us are looking at the stars.'},\n",
       " {'cita': 'A man who does not think for himself does not think at all.'},\n",
       " {'cita': 'But we never get back our youth… The pulse of joy that beats in us at twenty becomes sluggish. Our limbs fail, our senses rot. We degenerate into hideous puppets, haunted by the memory of the passions of which we were too much afraid, and the exquisite temptations that we had not the courage to yield to.'},\n",
       " {'cita': \"The ugly and stupid have the best of it in this world. They can sit at their ease and gape at the play. If they know nothing of victory, they are at least spared the knowledge of defeat. They live as we all should live-- undisturbed, indifferent, and without disquiet. They never bring ruin upon others, nor ever receive it from alien hands. Your rank and wealth, Henry; my brains, such as they are-- my art, whatever it may be worth; Dorian Gray's good looks-- we shall all suffer for what the gods have given us, suffer terribly.\"},\n",
       " {'cita': 'What fire does not destroy, it hardens'},\n",
       " {'cita': 'Life is one fool thing after another whereas love is two fool things after each other.'}]"
      ]
     },
     "execution_count": 133,
     "metadata": {},
     "output_type": "execute_result"
    }
   ],
   "source": [
    "frases = requests.get(url_citas + nombre).json()\n",
    "frases"
   ]
  },
  {
   "cell_type": "markdown",
   "id": "alive-ordinance",
   "metadata": {},
   "source": [
    "### Query de cita random"
   ]
  },
  {
   "cell_type": "code",
   "execution_count": 383,
   "id": "robust-ghana",
   "metadata": {},
   "outputs": [
    {
     "data": {
      "text/plain": [
       "'God, grant me the serenity to accept the things I cannot change, the courage to change the things I can, and the wisdom to know the difference.'"
      ]
     },
     "execution_count": 383,
     "metadata": {},
     "output_type": "execute_result"
    }
   ],
   "source": [
    "url_query = \"http://localhost:5000/random\"\n",
    "data = requests.get (url_query).json()\n",
    "data"
   ]
  },
  {
   "cell_type": "markdown",
   "id": "therapeutic-section",
   "metadata": {},
   "source": [
    "### Query citas positivas"
   ]
  },
  {
   "cell_type": "code",
   "execution_count": 131,
   "id": "chinese-taiwan",
   "metadata": {},
   "outputs": [
    {
     "data": {
      "text/plain": [
       "[{'autor': 'Mother Teresa',\n",
       "  'cita': 'Peace begins with a smile..',\n",
       "  'cita_sentiment_(P/N/C)': [0.857]},\n",
       " {'autor': 'Walt Disney',\n",
       "  'cita': \"It's kind of fun to do the impossible.\",\n",
       "  'cita_sentiment_(P/N/C)': [0.87]}]"
      ]
     },
     "execution_count": 131,
     "metadata": {},
     "output_type": "execute_result"
    }
   ],
   "source": [
    "url_pos = \"http://localhost:5000/citas_positivas\"\n",
    "mayor = '0.8'\n",
    "numero = '2'\n",
    "citas = requests.get(url_pos + mayor + '_' + numero).json()\n",
    "citas"
   ]
  },
  {
   "cell_type": "markdown",
   "id": "herbal-savage",
   "metadata": {},
   "source": [
    "### Query citas negativas"
   ]
  },
  {
   "cell_type": "code",
   "execution_count": 130,
   "id": "assumed-royal",
   "metadata": {},
   "outputs": [
    {
     "data": {
      "text/plain": [
       "[{'autor': 'William Shakespeare',\n",
       "  'cita': 'Hell is empty and all the devils are here.',\n",
       "  'cita_sentiment_(P/N/C)': [1.0]},\n",
       " {'autor': 'Roy T. Bennett',\n",
       "  'cita': 'Do not fear failure but rather fear not trying.',\n",
       "  'cita_sentiment_(P/N/C)': [0.829]}]"
      ]
     },
     "execution_count": 130,
     "metadata": {},
     "output_type": "execute_result"
    }
   ],
   "source": [
    "url_neg = \"http://localhost:5000/citas_negativas\"\n",
    "mayor = '0.8'\n",
    "numero = '2'\n",
    "citas = requests.get(url_neg + mayor + '_' + numero).json()\n",
    "citas"
   ]
  },
  {
   "cell_type": "markdown",
   "id": "miniature-tanzania",
   "metadata": {},
   "source": [
    "### Query citas compound negativas"
   ]
  },
  {
   "cell_type": "code",
   "execution_count": 128,
   "id": "lined-compound",
   "metadata": {},
   "outputs": [
    {
     "data": {
      "text/plain": [
       "[{'autor': 'Ralph Waldo Emerson',\n",
       "  'cita': 'What lies behind us and what lies before us are tiny matters compared to what lies within us.',\n",
       "  'cita_sentiment_(P/N/C)': [-0.8074]},\n",
       " {'autor': 'Nicholas Klein',\n",
       "  'cita': 'First they ignore you. Then they ridicule you. And then they attack you and want to burn you. And then they build monuments to you.',\n",
       "  'cita_sentiment_(P/N/C)': [-0.8074]}]"
      ]
     },
     "execution_count": 128,
     "metadata": {},
     "output_type": "execute_result"
    }
   ],
   "source": [
    "url_cneg = \"http://localhost:5000/citas_compound_neg\"\n",
    "menor = '-0.8'\n",
    "numero = '2'\n",
    "citas = requests.get(url_cneg + menor + '_' + numero).json()\n",
    "citas"
   ]
  },
  {
   "cell_type": "markdown",
   "id": "reverse-lesbian",
   "metadata": {},
   "source": [
    "### Query citas compound positivas"
   ]
  },
  {
   "cell_type": "code",
   "execution_count": 259,
   "id": "latest-access",
   "metadata": {
    "scrolled": true
   },
   "outputs": [
    {
     "data": {
      "text/plain": [
       "[{'autor': 'Stephen Chbosky',\n",
       "  'cita': 'We accept the love we think we deserve.',\n",
       "  'cita_sentiment_(P/N/C)': [0.7783]},\n",
       " {'autor': 'Bill Keane',\n",
       "  'cita': 'Yesterday is history, tomorrow is a mystery, today is a gift of God, which is why we call it the present.',\n",
       "  'cita_sentiment_(P/N/C)': [0.6124]}]"
      ]
     },
     "execution_count": 259,
     "metadata": {},
     "output_type": "execute_result"
    }
   ],
   "source": [
    "url_cpos = \"http://localhost:5000/citas_compound_pos\"\n",
    "mayor = '0.6'\n",
    "numero = '2'\n",
    "citas = requests.get(url_cpos + mayor + '_' + numero).json()\n",
    "citas"
   ]
  },
  {
   "cell_type": "markdown",
   "id": "south-coach",
   "metadata": {},
   "source": [
    "### Query citas que contienen..."
   ]
  },
  {
   "cell_type": "code",
   "execution_count": 261,
   "id": "civilian-integral",
   "metadata": {
    "scrolled": true
   },
   "outputs": [
    {
     "data": {
      "text/plain": [
       "[{'_id': 100,\n",
       "  'autor': 'Agatha Christie',\n",
       "  'cita': 'I like living. I have sometimes been wildly, despairingly, acutely miserable, racked with sorrow; but through it all I still know quite certainly that just to be alive is a grand thing.'},\n",
       " {'_id': 723,\n",
       "  'autor': 'Emily Dickinson',\n",
       "  'cita': 'To live is so startling it leaves little time for anything else.'},\n",
       " {'_id': 733,\n",
       "  'autor': 'Louis C.K.',\n",
       "  'cita': 'I’m bored’ is a useless thing to say. I mean, you live in a great, big, vast world that you’ve seen none percent of. Even the inside of your own mind is endless; it goes on forever, inwardly, do you understand? The fact that you’re alive is amazing, so you don’t get to say ‘I’m bored.'},\n",
       " {'_id': 1199,\n",
       "  'autor': 'Michel Houellebecq',\n",
       "  'cita': 'The absence of the will to live is, alas, not sufficient to make one want to die.'},\n",
       " {'_id': 2950,\n",
       "  'autor': 'Kofi Annan',\n",
       "  'cita': 'To live is to choose. But to choose well, you must know who you are and what you stand for, where you want to go and why you want to get there.'}]"
      ]
     },
     "execution_count": 261,
     "metadata": {},
     "output_type": "execute_result"
    }
   ],
   "source": [
    "url_cont = \"http://localhost:5000/citas_que_contienen\"\n",
    "extracto = 'live is'\n",
    "citas = requests.get(url_cont + extracto).json()\n",
    "citas"
   ]
  },
  {
   "cell_type": "markdown",
   "id": "ready-summit",
   "metadata": {},
   "source": [
    "##  FUNCIONES POST"
   ]
  },
  {
   "cell_type": "markdown",
   "id": "optical-nickel",
   "metadata": {},
   "source": [
    "### Query para introducir una nueva cita"
   ]
  },
  {
   "cell_type": "code",
   "execution_count": 380,
   "id": "thorough-gravity",
   "metadata": {},
   "outputs": [
    {
     "data": {
      "text/plain": [
       "<Response [200]>"
      ]
     },
     "execution_count": 380,
     "metadata": {},
     "output_type": "execute_result"
    }
   ],
   "source": [
    "url = 'http://localhost:5000/nueva_cita'\n",
    "datos = {'autor': 'Solo',\n",
    " 'cita': 'Sólo sé que no sé Python',\n",
    " 'etiquetas': 'realidad vacío',\n",
    "        }\n",
    "\n",
    "requests.post(url, data = datos)"
   ]
  },
  {
   "cell_type": "code",
   "execution_count": 375,
   "id": "recorded-adventure",
   "metadata": {
    "scrolled": true
   },
   "outputs": [
    {
     "data": {
      "text/plain": [
       "[{'cita': 'Sólo sé que no sé Python'}]"
      ]
     },
     "execution_count": 375,
     "metadata": {},
     "output_type": "execute_result"
    }
   ],
   "source": [
    "frases = requests.get(url_citas + 'Solo').json()\n",
    "frases"
   ]
  },
  {
   "cell_type": "markdown",
   "id": "scheduled-judges",
   "metadata": {},
   "source": [
    "### Query para borrar una cita"
   ]
  },
  {
   "cell_type": "code",
   "execution_count": 379,
   "id": "alert-green",
   "metadata": {
    "scrolled": true
   },
   "outputs": [
    {
     "data": {
      "text/plain": [
       "<Response [200]>"
      ]
     },
     "execution_count": 379,
     "metadata": {},
     "output_type": "execute_result"
    }
   ],
   "source": [
    "url_borrar = \"http://localhost:5000/eliminar_cita\"\n",
    "datos = {'_id' : 2964}\n",
    "requests.post(url_borrar, data =datos)\n"
   ]
  },
  {
   "cell_type": "markdown",
   "id": "antique-access",
   "metadata": {},
   "source": [
    "### Query para modificar una cita"
   ]
  },
  {
   "cell_type": "code",
   "execution_count": 356,
   "id": "polar-secretariat",
   "metadata": {
    "scrolled": true
   },
   "outputs": [
    {
     "data": {
      "text/plain": [
       "<Response [200]>"
      ]
     },
     "execution_count": 356,
     "metadata": {},
     "output_type": "execute_result"
    }
   ],
   "source": [
    "url_modificar = \"http://localhost:5000/modificar_cita\"\n",
    "datos = {'antigua' : 'Sólo sé que no sé Python', 'buena' : 'mimimimimimimim imimimim '}\n",
    "requests.post(url_modificar, data =datos)"
   ]
  },
  {
   "cell_type": "markdown",
   "id": "practical-decrease",
   "metadata": {},
   "source": [
    "### Query para modificar el autor de una cita"
   ]
  },
  {
   "cell_type": "code",
   "execution_count": 371,
   "id": "invalid-latin",
   "metadata": {
    "scrolled": true
   },
   "outputs": [
    {
     "data": {
      "text/plain": [
       "<Response [200]>"
      ]
     },
     "execution_count": 371,
     "metadata": {},
     "output_type": "execute_result"
    }
   ],
   "source": [
    "url_modificar = \"http://localhost:5000/modificar_autor_de_cita\"\n",
    "datos = {'cita' : 'Sólo sé que no sé Python', 'autor' : 'Anónimo'}\n",
    "requests.post(url_modificar, data =datos)"
   ]
  },
  {
   "cell_type": "markdown",
   "id": "geographic-sheffield",
   "metadata": {},
   "source": [
    "### Query para modificar el autor por el índice"
   ]
  },
  {
   "cell_type": "code",
   "execution_count": 372,
   "id": "naked-significance",
   "metadata": {
    "scrolled": true
   },
   "outputs": [
    {
     "data": {
      "text/plain": [
       "<Response [200]>"
      ]
     },
     "execution_count": 372,
     "metadata": {},
     "output_type": "execute_result"
    }
   ],
   "source": [
    "url_modificar_a = \"http://localhost:5000/modificar_autor_por_indice\"\n",
    "datos = {'index' : 2964, 'autor' : 'Solo'}\n",
    "requests.post(url_modificar_a, data =datos)"
   ]
  },
  {
   "cell_type": "markdown",
   "id": "weird-dylan",
   "metadata": {},
   "source": [
    "### Query para modificar una cita por el índice"
   ]
  },
  {
   "cell_type": "code",
   "execution_count": 378,
   "id": "documented-certification",
   "metadata": {
    "scrolled": true
   },
   "outputs": [
    {
     "data": {
      "text/plain": [
       "<Response [200]>"
      ]
     },
     "execution_count": 378,
     "metadata": {},
     "output_type": "execute_result"
    }
   ],
   "source": [
    "url_modificar_c = \"http://localhost:5000/modificar_cita_por_indice\"\n",
    "datos = {'index' : 2964, 'cita' : 'Solo sé que no sé Java'}\n",
    "requests.post(url_modificar_c, data =datos)"
   ]
  },
  {
   "cell_type": "markdown",
   "id": "informational-august",
   "metadata": {},
   "source": [
    "### Query para borrar la colección"
   ]
  },
  {
   "cell_type": "code",
   "execution_count": 243,
   "id": "built-timing",
   "metadata": {
    "scrolled": true
   },
   "outputs": [
    {
     "data": {
      "text/plain": [
       "<Response [200]>"
      ]
     },
     "execution_count": 243,
     "metadata": {},
     "output_type": "execute_result"
    }
   ],
   "source": [
    "url_borrar = \"http://localhost:5000/borrar_coleccion\"\n",
    "requests.post(url_borrar)"
   ]
  },
  {
   "cell_type": "markdown",
   "id": "collaborative-costume",
   "metadata": {},
   "source": [
    "### Query para restaurar la coleccion a su estado por defecto o mediante backup"
   ]
  },
  {
   "cell_type": "code",
   "execution_count": 245,
   "id": "municipal-illness",
   "metadata": {
    "scrolled": true
   },
   "outputs": [
    {
     "data": {
      "text/plain": [
       "<Response [200]>"
      ]
     },
     "execution_count": 245,
     "metadata": {},
     "output_type": "execute_result"
    }
   ],
   "source": [
    "url_rest = \"http://localhost:5000/restaurar_coleccion\"\n",
    "datos = {'original' : 'original'}\n",
    "requests.post(url_rest, data =datos)\n"
   ]
  }
 ],
 "metadata": {
  "kernelspec": {
   "display_name": "Python 3",
   "language": "python",
   "name": "python3"
  },
  "language_info": {
   "codemirror_mode": {
    "name": "ipython",
    "version": 3
   },
   "file_extension": ".py",
   "mimetype": "text/x-python",
   "name": "python",
   "nbconvert_exporter": "python",
   "pygments_lexer": "ipython3",
   "version": "3.8.5"
  }
 },
 "nbformat": 4,
 "nbformat_minor": 5
}
